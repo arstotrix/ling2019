{
 "cells": [
  {
   "cell_type": "markdown",
   "metadata": {
    "colab_type": "text",
    "id": "krzK_Qr_HJux"
   },
   "source": [
    "# Домашнее задание 7. Градиентный бустинг над решающими деревьями. Регрессия. "
   ]
  },
  {
   "cell_type": "markdown",
   "metadata": {
    "colab_type": "text",
    "id": "dCVjmYY3IG6P"
   },
   "source": [
    "Дедлайн: 07.06.2020 23:59"
   ]
  },
  {
   "cell_type": "markdown",
   "metadata": {
    "colab_type": "text",
    "id": "APrspO2sHaz0"
   },
   "source": [
    "При градиентном бустинге деревья обучаются итеративно. Каждое новое дерево обучается на ошибках предыдущего. \n",
    "Алгоритм обучения градиентного бустинга:\n",
    "+ $T$ - количество деревьев\n",
    "+ $\\gamma$ - размер шага (learning_rate)\n",
    "+ $\\{ (x_i, y_i )\\}_{i=1}^N$ - обучающая выборка   \n",
    "\n",
    "\n",
    "1. Инициализировать массив предсказаний $prediction$ ансамбля, заполнив его нулями. \n",
    "2. For $t$ in $1...T$      \n",
    "  2.1. Посчитать остатки - антиградиент функции ошибки.    \n",
    "  ***Ошибка:*** $mse(y,prediction) = (y - prediction)^2$    \n",
    "  ***Градиент:*** $\\nabla_{prediction} mse(y,prediction) = prediction - y$   \n",
    "  ***Антиградиент:*** $residuals_t = y - prediction$    \n",
    "  2.2. Обучить дерево $b_t$, обучающая выборка:$ \\{ (x_i, residuals_{t, i} ) \\}_{i=1}^N$ \n",
    "  (в качестве целевой переменной выступают остатки)   \n",
    "  2.3. Сделать предсказание обученным деревом:     \n",
    "    $prediction_t = b_t(x)$    \n",
    "  2.4. Прибавить предсказанние текущей модели умноженное на размер шага к вектору предсказаний ансамбля: $prediction \\mathrel{+}= \\gamma*prediction_t$    \n",
    "\n",
    "\n",
    "\n",
    "\n",
    "Итоговый ансамбль имеет вид:  $a(x) = \\sum_{t = 1}^T (\\gamma b_t(x))$\n",
    "\n",
    "       "
   ]
  },
  {
   "cell_type": "markdown",
   "metadata": {
    "colab_type": "text",
    "id": "BsAuacJzaz3K"
   },
   "source": [
    "Ваша задача - заполнить пропуски # YOUR CODE HERE, и выполнить код"
   ]
  },
  {
   "cell_type": "code",
   "execution_count": 7,
   "metadata": {
    "colab": {},
    "colab_type": "code",
    "id": "Di9fAwYHHbNm"
   },
   "outputs": [],
   "source": [
    "import numpy as np\n",
    "import pandas as pd\n",
    "from sklearn.tree import DecisionTreeRegressor"
   ]
  },
  {
   "cell_type": "markdown",
   "metadata": {
    "colab_type": "text",
    "id": "ajXxgshV-eGp"
   },
   "source": [
    "Обязательно фиксируем random state. "
   ]
  },
  {
   "cell_type": "code",
   "execution_count": 8,
   "metadata": {
    "colab": {},
    "colab_type": "code",
    "id": "qT148znn9-ZV"
   },
   "outputs": [],
   "source": [
    "SEED = 22\n",
    "np.random.seed(SEED)"
   ]
  },
  {
   "cell_type": "markdown",
   "metadata": {
    "colab_type": "text",
    "id": "oh3v1hkg-lnZ"
   },
   "source": [
    "Реализуем простой градиентный бустинг, в качестве базового алгоритма используем DecisionTreeRegressor из sklearn. "
   ]
  },
  {
   "cell_type": "code",
   "execution_count": 23,
   "metadata": {
    "colab": {},
    "colab_type": "code",
    "id": "TUZblo1jHxCJ"
   },
   "outputs": [],
   "source": [
    "class SimpleGBRegressor:\n",
    "\n",
    "    def __init__(self, n_estimators=10, max_depth=5, \n",
    "                 min_samples_leaf=1, learning_rate=0.1, \n",
    "                 random_state=None):\n",
    "        self.n_estimators = n_estimators\n",
    "        self.max_depth = max_depth\n",
    "        self.min_samples_leaf = min_samples_leaf\n",
    "        self.learning_rate = learning_rate\n",
    "        self.random_state = random_state\n",
    "        self.trees = []\n",
    "        self.was_fit = False\n",
    "\n",
    "    def fit(self, X, y):\n",
    "        # убедиться что в X и y одинаковое число элементов\n",
    "        assert len(X) == len(y)\n",
    "        \n",
    "        # инициализировать массив с предсказаниями, заполнив нулями\n",
    "        prediction = np.zeros(len(y))\n",
    "\n",
    "        # обучаем деревья\n",
    "        for i in range(self.n_estimators):\n",
    "            # посчитать остатки\n",
    "            residual = y - prediction\n",
    "\n",
    "            # инициализировать дерево с нужными параметрами\n",
    "            tree = DecisionTreeRegressor(max_depth = self.max_depth, min_samples_leaf = self.n_estimators, \n",
    "                                         random_state = self.random_state)\n",
    "\n",
    "            # обучить дерево\n",
    "            tree.fit(X,residual)\n",
    "\n",
    "            # сделать предсказание текущего дерева\n",
    "            tree_prediction = tree.predict(X)\n",
    "\n",
    "            # сохранить обученное дерево\n",
    "            self.trees.append(tree)\n",
    "\n",
    "            # обновить вектор предсказаний модели\n",
    "            prediction += tree_prediction * self.learning_rate\n",
    "\n",
    "        self.was_fit = True\n",
    "        return self\n",
    "\n",
    "    def predict(self, X):\n",
    "        # если модель не была обучена, печатаем сообщение об этом и вовращаем None\n",
    "        if self.was_fit == False:\n",
    "            print('Модель не была обучена')\n",
    "            return None\n",
    "\n",
    "        # инициализировать массив с предсказаниями\n",
    "        y_pred = np.zeros(len(X))\n",
    "        \n",
    "        # добавить прогнозы деревьев\n",
    "        for tree in self.trees:\n",
    "            tree_prediction = tree.predict(X)\n",
    "            y_pred += tree_prediction * self.learning_rate            \n",
    "            \n",
    "        # убедиться что в X и y одинаковое число элементов\n",
    "        assert len(X) == len(y_pred)\n",
    "        return y_pred"
   ]
  },
  {
   "cell_type": "markdown",
   "metadata": {
    "colab_type": "text",
    "id": "GfwKeNkIHxKx"
   },
   "source": [
    "## Провеярем нашу модель\n"
   ]
  },
  {
   "cell_type": "markdown",
   "metadata": {
    "colab_type": "text",
    "id": "Iid0LpnS-UPD"
   },
   "source": [
    "Загружаем датасет Diabetes. "
   ]
  },
  {
   "cell_type": "code",
   "execution_count": 13,
   "metadata": {
    "colab": {},
    "colab_type": "code",
    "id": "oJzCrOg5cc2E"
   },
   "outputs": [],
   "source": [
    "from sklearn.datasets import load_diabetes\n",
    "from sklearn.model_selection import train_test_split\n",
    "diabetes = load_diabetes()"
   ]
  },
  {
   "cell_type": "code",
   "execution_count": 9,
   "metadata": {
    "colab": {
     "base_uri": "https://localhost:8080/",
     "height": 663
    },
    "colab_type": "code",
    "id": "Gu0Qa9G1ceR1",
    "outputId": "e90da4f9-dd4b-4ad7-ee92-781e7fc52df0"
   },
   "outputs": [
    {
     "name": "stdout",
     "output_type": "stream",
     "text": [
      ".. _diabetes_dataset:\n",
      "\n",
      "Diabetes dataset\n",
      "----------------\n",
      "\n",
      "Ten baseline variables, age, sex, body mass index, average blood\n",
      "pressure, and six blood serum measurements were obtained for each of n =\n",
      "442 diabetes patients, as well as the response of interest, a\n",
      "quantitative measure of disease progression one year after baseline.\n",
      "\n",
      "**Data Set Characteristics:**\n",
      "\n",
      "  :Number of Instances: 442\n",
      "\n",
      "  :Number of Attributes: First 10 columns are numeric predictive values\n",
      "\n",
      "  :Target: Column 11 is a quantitative measure of disease progression one year after baseline\n",
      "\n",
      "  :Attribute Information:\n",
      "      - Age\n",
      "      - Sex\n",
      "      - Body mass index\n",
      "      - Average blood pressure\n",
      "      - S1\n",
      "      - S2\n",
      "      - S3\n",
      "      - S4\n",
      "      - S5\n",
      "      - S6\n",
      "\n",
      "Note: Each of these 10 feature variables have been mean centered and scaled by the standard deviation times `n_samples` (i.e. the sum of squares of each column totals 1).\n",
      "\n",
      "Source URL:\n",
      "https://www4.stat.ncsu.edu/~boos/var.select/diabetes.html\n",
      "\n",
      "For more information see:\n",
      "Bradley Efron, Trevor Hastie, Iain Johnstone and Robert Tibshirani (2004) \"Least Angle Regression,\" Annals of Statistics (with discussion), 407-499.\n",
      "(https://web.stanford.edu/~hastie/Papers/LARS/LeastAngle_2002.pdf)\n"
     ]
    }
   ],
   "source": [
    "print(diabetes['DESCR'])"
   ]
  },
  {
   "cell_type": "code",
   "execution_count": 10,
   "metadata": {
    "colab": {},
    "colab_type": "code",
    "id": "yL9F53Tacl2z"
   },
   "outputs": [],
   "source": [
    "data = pd.DataFrame(diabetes['data'], columns=diabetes['feature_names'])\n",
    "target = diabetes.target"
   ]
  },
  {
   "cell_type": "code",
   "execution_count": 11,
   "metadata": {
    "colab": {
     "base_uri": "https://localhost:8080/",
     "height": 359
    },
    "colab_type": "code",
    "id": "Dyg5rdV6dGOD",
    "outputId": "bd1f3ba0-1181-4546-87d6-09f71364f2d1"
   },
   "outputs": [
    {
     "data": {
      "text/html": [
       "<div>\n",
       "<style scoped>\n",
       "    .dataframe tbody tr th:only-of-type {\n",
       "        vertical-align: middle;\n",
       "    }\n",
       "\n",
       "    .dataframe tbody tr th {\n",
       "        vertical-align: top;\n",
       "    }\n",
       "\n",
       "    .dataframe thead th {\n",
       "        text-align: right;\n",
       "    }\n",
       "</style>\n",
       "<table border=\"1\" class=\"dataframe\">\n",
       "  <thead>\n",
       "    <tr style=\"text-align: right;\">\n",
       "      <th></th>\n",
       "      <th>age</th>\n",
       "      <th>sex</th>\n",
       "      <th>bmi</th>\n",
       "      <th>bp</th>\n",
       "      <th>s1</th>\n",
       "      <th>s2</th>\n",
       "      <th>s3</th>\n",
       "      <th>s4</th>\n",
       "      <th>s5</th>\n",
       "      <th>s6</th>\n",
       "    </tr>\n",
       "  </thead>\n",
       "  <tbody>\n",
       "    <tr>\n",
       "      <th>0</th>\n",
       "      <td>0.038076</td>\n",
       "      <td>0.050680</td>\n",
       "      <td>0.061696</td>\n",
       "      <td>0.021872</td>\n",
       "      <td>-0.044223</td>\n",
       "      <td>-0.034821</td>\n",
       "      <td>-0.043401</td>\n",
       "      <td>-0.002592</td>\n",
       "      <td>0.019908</td>\n",
       "      <td>-0.017646</td>\n",
       "    </tr>\n",
       "    <tr>\n",
       "      <th>1</th>\n",
       "      <td>-0.001882</td>\n",
       "      <td>-0.044642</td>\n",
       "      <td>-0.051474</td>\n",
       "      <td>-0.026328</td>\n",
       "      <td>-0.008449</td>\n",
       "      <td>-0.019163</td>\n",
       "      <td>0.074412</td>\n",
       "      <td>-0.039493</td>\n",
       "      <td>-0.068330</td>\n",
       "      <td>-0.092204</td>\n",
       "    </tr>\n",
       "    <tr>\n",
       "      <th>2</th>\n",
       "      <td>0.085299</td>\n",
       "      <td>0.050680</td>\n",
       "      <td>0.044451</td>\n",
       "      <td>-0.005671</td>\n",
       "      <td>-0.045599</td>\n",
       "      <td>-0.034194</td>\n",
       "      <td>-0.032356</td>\n",
       "      <td>-0.002592</td>\n",
       "      <td>0.002864</td>\n",
       "      <td>-0.025930</td>\n",
       "    </tr>\n",
       "    <tr>\n",
       "      <th>3</th>\n",
       "      <td>-0.089063</td>\n",
       "      <td>-0.044642</td>\n",
       "      <td>-0.011595</td>\n",
       "      <td>-0.036656</td>\n",
       "      <td>0.012191</td>\n",
       "      <td>0.024991</td>\n",
       "      <td>-0.036038</td>\n",
       "      <td>0.034309</td>\n",
       "      <td>0.022692</td>\n",
       "      <td>-0.009362</td>\n",
       "    </tr>\n",
       "    <tr>\n",
       "      <th>4</th>\n",
       "      <td>0.005383</td>\n",
       "      <td>-0.044642</td>\n",
       "      <td>-0.036385</td>\n",
       "      <td>0.021872</td>\n",
       "      <td>0.003935</td>\n",
       "      <td>0.015596</td>\n",
       "      <td>0.008142</td>\n",
       "      <td>-0.002592</td>\n",
       "      <td>-0.031991</td>\n",
       "      <td>-0.046641</td>\n",
       "    </tr>\n",
       "    <tr>\n",
       "      <th>5</th>\n",
       "      <td>-0.092695</td>\n",
       "      <td>-0.044642</td>\n",
       "      <td>-0.040696</td>\n",
       "      <td>-0.019442</td>\n",
       "      <td>-0.068991</td>\n",
       "      <td>-0.079288</td>\n",
       "      <td>0.041277</td>\n",
       "      <td>-0.076395</td>\n",
       "      <td>-0.041180</td>\n",
       "      <td>-0.096346</td>\n",
       "    </tr>\n",
       "    <tr>\n",
       "      <th>6</th>\n",
       "      <td>-0.045472</td>\n",
       "      <td>0.050680</td>\n",
       "      <td>-0.047163</td>\n",
       "      <td>-0.015999</td>\n",
       "      <td>-0.040096</td>\n",
       "      <td>-0.024800</td>\n",
       "      <td>0.000779</td>\n",
       "      <td>-0.039493</td>\n",
       "      <td>-0.062913</td>\n",
       "      <td>-0.038357</td>\n",
       "    </tr>\n",
       "    <tr>\n",
       "      <th>7</th>\n",
       "      <td>0.063504</td>\n",
       "      <td>0.050680</td>\n",
       "      <td>-0.001895</td>\n",
       "      <td>0.066630</td>\n",
       "      <td>0.090620</td>\n",
       "      <td>0.108914</td>\n",
       "      <td>0.022869</td>\n",
       "      <td>0.017703</td>\n",
       "      <td>-0.035817</td>\n",
       "      <td>0.003064</td>\n",
       "    </tr>\n",
       "    <tr>\n",
       "      <th>8</th>\n",
       "      <td>0.041708</td>\n",
       "      <td>0.050680</td>\n",
       "      <td>0.061696</td>\n",
       "      <td>-0.040099</td>\n",
       "      <td>-0.013953</td>\n",
       "      <td>0.006202</td>\n",
       "      <td>-0.028674</td>\n",
       "      <td>-0.002592</td>\n",
       "      <td>-0.014956</td>\n",
       "      <td>0.011349</td>\n",
       "    </tr>\n",
       "    <tr>\n",
       "      <th>9</th>\n",
       "      <td>-0.070900</td>\n",
       "      <td>-0.044642</td>\n",
       "      <td>0.039062</td>\n",
       "      <td>-0.033214</td>\n",
       "      <td>-0.012577</td>\n",
       "      <td>-0.034508</td>\n",
       "      <td>-0.024993</td>\n",
       "      <td>-0.002592</td>\n",
       "      <td>0.067736</td>\n",
       "      <td>-0.013504</td>\n",
       "    </tr>\n",
       "  </tbody>\n",
       "</table>\n",
       "</div>"
      ],
      "text/plain": [
       "        age       sex       bmi        bp        s1        s2        s3  \\\n",
       "0  0.038076  0.050680  0.061696  0.021872 -0.044223 -0.034821 -0.043401   \n",
       "1 -0.001882 -0.044642 -0.051474 -0.026328 -0.008449 -0.019163  0.074412   \n",
       "2  0.085299  0.050680  0.044451 -0.005671 -0.045599 -0.034194 -0.032356   \n",
       "3 -0.089063 -0.044642 -0.011595 -0.036656  0.012191  0.024991 -0.036038   \n",
       "4  0.005383 -0.044642 -0.036385  0.021872  0.003935  0.015596  0.008142   \n",
       "5 -0.092695 -0.044642 -0.040696 -0.019442 -0.068991 -0.079288  0.041277   \n",
       "6 -0.045472  0.050680 -0.047163 -0.015999 -0.040096 -0.024800  0.000779   \n",
       "7  0.063504  0.050680 -0.001895  0.066630  0.090620  0.108914  0.022869   \n",
       "8  0.041708  0.050680  0.061696 -0.040099 -0.013953  0.006202 -0.028674   \n",
       "9 -0.070900 -0.044642  0.039062 -0.033214 -0.012577 -0.034508 -0.024993   \n",
       "\n",
       "         s4        s5        s6  \n",
       "0 -0.002592  0.019908 -0.017646  \n",
       "1 -0.039493 -0.068330 -0.092204  \n",
       "2 -0.002592  0.002864 -0.025930  \n",
       "3  0.034309  0.022692 -0.009362  \n",
       "4 -0.002592 -0.031991 -0.046641  \n",
       "5 -0.076395 -0.041180 -0.096346  \n",
       "6 -0.039493 -0.062913 -0.038357  \n",
       "7  0.017703 -0.035817  0.003064  \n",
       "8 -0.002592 -0.014956  0.011349  \n",
       "9 -0.002592  0.067736 -0.013504  "
      ]
     },
     "execution_count": 11,
     "metadata": {},
     "output_type": "execute_result"
    }
   ],
   "source": [
    "data.head(10)"
   ]
  },
  {
   "cell_type": "markdown",
   "metadata": {
    "colab_type": "text",
    "id": "_9MlwH6q_Tdy"
   },
   "source": [
    "Делим на обучающую и тестовую выборку, размер тестовой выборки - 30%. Не забываем про random state."
   ]
  },
  {
   "cell_type": "code",
   "execution_count": 17,
   "metadata": {
    "colab": {},
    "colab_type": "code",
    "id": "oxr8yDxXASJ4"
   },
   "outputs": [],
   "source": [
    "X_train, X_test, y_train, y_test = train_test_split(data, target, test_size=0.3, random_state = SEED)"
   ]
  },
  {
   "cell_type": "markdown",
   "metadata": {
    "colab_type": "text",
    "id": "GQyPhNT3d1eD"
   },
   "source": [
    "Обучаем нашу модель и делаем предсказание по тестовой выборке. \n",
    "Параметры модели:\n",
    "+ n_estimators = 100\n",
    "+ random_state - зафиксированный нами ранее\n",
    "+ остальные значения по умолчанию "
   ]
  },
  {
   "cell_type": "code",
   "execution_count": 25,
   "metadata": {
    "colab": {
     "base_uri": "https://localhost:8080/",
     "height": 34
    },
    "colab_type": "code",
    "id": "M2My_fX4YYVl",
    "outputId": "beee7185-db7f-44fc-831e-67f6a7c1bd82"
   },
   "outputs": [
    {
     "data": {
      "text/plain": [
       "array([166.90397847,  93.44154947, 221.1947866 , 237.84727123,\n",
       "       236.74547585,  89.25081358, 116.22789291, 217.99615271,\n",
       "        88.60817683, 217.50094303, 220.56530444, 223.4924004 ,\n",
       "       154.10202581, 186.2808836 ,  89.25081358, 106.05792144,\n",
       "       112.13582914, 103.02944902,  88.75052673, 231.50054906,\n",
       "       178.24788985, 223.83677943, 143.01255201, 137.1999821 ,\n",
       "       210.9160611 , 111.33433492,  89.26818786,  79.61827093,\n",
       "        76.04776366, 119.81812848, 177.12233453, 178.86038964,\n",
       "        87.46953162,  89.12848182,  77.12232991, 237.3284512 ,\n",
       "       224.65087528, 158.86942992, 221.14908169, 133.4850777 ,\n",
       "       161.06209258,  88.60817683, 239.90548681, 164.03293905,\n",
       "       150.01572517, 237.3284512 , 189.24646741,  98.94691963,\n",
       "       112.69587567, 183.14947461, 204.04344589,  81.13509151,\n",
       "        89.25081358, 157.17825658,  78.47245694, 189.27335035,\n",
       "        83.23411651, 181.97130895, 234.75929947, 102.23498095,\n",
       "        98.96429391,  89.82806908, 113.13430136,  83.53822327,\n",
       "        87.77305059, 165.22165241,  81.39955289, 136.04588162,\n",
       "       196.99225604, 165.53945381, 190.85912832, 135.32003693,\n",
       "       117.69846088,  94.33814142, 122.63310437, 166.18639038,\n",
       "        66.4357583 , 234.75929947,  89.25081358, 204.99212216,\n",
       "       218.48318526, 138.53043335, 232.11730664, 131.36611516,\n",
       "        82.40017252, 124.20198013, 200.86838176, 159.76910235,\n",
       "       190.89505431, 154.96016948, 157.28775608, 155.84764759,\n",
       "        81.50581412, 135.42740407, 152.85307038, 226.92475119,\n",
       "        89.25081358,  91.60493329, 109.23462815, 180.10804063,\n",
       "       114.01255565,  88.57738625, 164.13020217, 181.15140866,\n",
       "       230.15052126, 218.57992996, 114.07587888,  90.85615839,\n",
       "        89.25081358, 178.45646048,  83.52084899, 172.16220194,\n",
       "       177.9626875 , 141.66805275,  81.42009017, 154.44999398,\n",
       "       117.49710942,  89.25081358, 232.11730664, 179.44539456,\n",
       "       227.50852843, 123.10311839, 108.11844684, 106.10657498,\n",
       "       182.19786783, 105.08445905, 135.26706244, 135.85374619,\n",
       "       186.86466084, 234.17552222, 158.34675299,  89.25081358,\n",
       "       187.97201496])"
      ]
     },
     "execution_count": 25,
     "metadata": {},
     "output_type": "execute_result"
    }
   ],
   "source": [
    "# создаем и обучаем модель\n",
    "my_model = SimpleGBRegressor(n_estimators = 100, random_state = SEED)\n",
    "my_model.fit(X_train, y_train)\n",
    "my_model.predict(X_test)"
   ]
  },
  {
   "cell_type": "code",
   "execution_count": 27,
   "metadata": {
    "colab": {},
    "colab_type": "code",
    "id": "zo0ZJWwXaZJk"
   },
   "outputs": [],
   "source": [
    "# делаем предсказание по тестовой выборке\n",
    "y_pred = my_model.predict(X_test)"
   ]
  },
  {
   "cell_type": "code",
   "execution_count": 28,
   "metadata": {},
   "outputs": [],
   "source": [
    "from sklearn.ensemble import GradientBoostingRegressor"
   ]
  },
  {
   "cell_type": "markdown",
   "metadata": {
    "colab_type": "text",
    "id": "GW8x2c8ReGfn"
   },
   "source": [
    "Считаем MSE"
   ]
  },
  {
   "cell_type": "code",
   "execution_count": 35,
   "metadata": {
    "colab": {
     "base_uri": "https://localhost:8080/",
     "height": 34
    },
    "colab_type": "code",
    "id": "QZFzKmpWAjoa",
    "outputId": "bf8f0fca-a0bb-4e29-da8d-821fd2ed62cc"
   },
   "outputs": [
    {
     "name": "stdout",
     "output_type": "stream",
     "text": [
      "4041.6408758436764\n"
     ]
    }
   ],
   "source": [
    "# оцениваем качество\n",
    "array = np.square(y_test - y_pred)\n",
    "mse = array.mean()\n",
    "print(mse)"
   ]
  },
  {
   "cell_type": "markdown",
   "metadata": {
    "colab_type": "text",
    "id": "uZyLjRckdjhT"
   },
   "source": [
    "Сравниваем с реализацией аналогичного алгоритма из sklearn c **такими же** параметрами (будьте внимательны)"
   ]
  },
  {
   "cell_type": "code",
   "execution_count": 38,
   "metadata": {
    "colab": {
     "base_uri": "https://localhost:8080/",
     "height": 170
    },
    "colab_type": "code",
    "id": "i-Lqpi7pAv43",
    "outputId": "f993f85a-a543-45cb-f5e5-e53def362758"
   },
   "outputs": [
    {
     "data": {
      "text/plain": [
       "array([155.8147599 ,  64.82054025, 275.39181948, 234.45010251,\n",
       "       207.18427048, 122.03947322, 107.62422579, 205.17498786,\n",
       "        83.16106544, 234.1298949 , 207.47339178, 197.08882438,\n",
       "       170.58764742, 212.87604389,  83.49819754, 117.54499782,\n",
       "       118.7337494 , 119.28274575, 133.08909943, 255.49560195,\n",
       "       206.62111063, 213.90703446, 107.66919437, 123.8293681 ,\n",
       "       168.21009953, 107.26852801, 101.68414547,  95.45952773,\n",
       "        86.1980105 ,  81.53135856, 180.747099  , 158.38972397,\n",
       "        84.1917453 ,  58.39351547,  92.84277408, 270.86910152,\n",
       "       243.46488874, 154.49108598, 198.7168851 , 139.81090673,\n",
       "       192.79887365,  87.40722762, 233.23847912, 150.94160743,\n",
       "       112.11334129, 213.28030949, 180.74964374,  87.57119414,\n",
       "        89.28955292, 182.73964437, 214.11701629, 113.47863853,\n",
       "        85.39537334, 165.21750384,  69.4082974 , 139.1982552 ,\n",
       "        70.22141607, 183.68765094, 244.61549104, 117.68994306,\n",
       "       112.52791461,  80.35751558, 114.42731668,  80.78230961,\n",
       "        84.42715124, 122.57658579,  79.29434244, 145.76829479,\n",
       "       233.85930899, 168.44526616, 176.07256416, 101.7586455 ,\n",
       "       120.00626254,  78.14038218,  99.21432884, 125.43967842,\n",
       "        69.59977054, 199.47819605,  73.58716643, 224.72090712,\n",
       "       158.27652414, 148.74509636, 245.58676578, 178.51559155,\n",
       "       114.82079599, 125.44533358, 273.01664696, 171.65119806,\n",
       "       184.30680032, 159.7644717 , 124.79156659, 147.5820494 ,\n",
       "        35.72071184,  95.94565295, 156.73090948, 198.98062303,\n",
       "        63.57490914,  85.93403747,  98.58688079, 176.36800431,\n",
       "       147.4182567 ,  92.79037649, 175.01296946, 185.36416235,\n",
       "       255.83864706, 207.01862546,  55.19006551, 120.70194106,\n",
       "       140.75335128, 215.20581242, 116.26181598, 185.96858217,\n",
       "       161.1197425 , 120.69518109,  55.45872636, 102.62530894,\n",
       "       128.4224214 , 113.31517452, 251.98762718, 192.2137824 ,\n",
       "       221.25868592,  97.2510176 ,  90.02530603,  95.30892812,\n",
       "       258.46398079,  99.47384122, 121.83617051, 145.63207902,\n",
       "       172.58914967, 248.34359269,  72.54101555,  82.48377557,\n",
       "       161.18094758])"
      ]
     },
     "execution_count": 38,
     "metadata": {},
     "output_type": "execute_result"
    }
   ],
   "source": [
    "# создаем и обучаем модель\n",
    "sklearn_model = GradientBoostingRegressor(n_estimators = 100, random_state = SEED,\n",
    "                                         max_depth=5, min_samples_leaf=1, learning_rate=0.1)\n",
    "sklearn_model.fit(X_train, y_train)\n",
    "sklearn_model.predict(X_test)"
   ]
  },
  {
   "cell_type": "code",
   "execution_count": 39,
   "metadata": {
    "colab": {},
    "colab_type": "code",
    "id": "qYGvws1TBBE7"
   },
   "outputs": [],
   "source": [
    "# делаем предсказание по тестовой выборке\n",
    "y_pred_sklearn = sklearn_model.predict(X_test)"
   ]
  },
  {
   "cell_type": "code",
   "execution_count": 40,
   "metadata": {
    "colab": {
     "base_uri": "https://localhost:8080/",
     "height": 34
    },
    "colab_type": "code",
    "id": "OTd6ejYaBacq",
    "outputId": "19251863-4de6-4045-b87d-7c64087aa1e1"
   },
   "outputs": [
    {
     "name": "stdout",
     "output_type": "stream",
     "text": [
      "4179.799430520316\n"
     ]
    }
   ],
   "source": [
    "# оцениваем качество\n",
    "array = np.square(y_test - y_pred_sklearn)\n",
    "mse = array.mean()\n",
    "print(mse)"
   ]
  },
  {
   "cell_type": "code",
   "execution_count": null,
   "metadata": {},
   "outputs": [],
   "source": []
  }
 ],
 "metadata": {
  "colab": {
   "collapsed_sections": [],
   "name": "hw7.ipynb",
   "provenance": []
  },
  "kernelspec": {
   "display_name": "Python 3",
   "language": "python",
   "name": "python3"
  },
  "language_info": {
   "codemirror_mode": {
    "name": "ipython",
    "version": 3
   },
   "file_extension": ".py",
   "mimetype": "text/x-python",
   "name": "python",
   "nbconvert_exporter": "python",
   "pygments_lexer": "ipython3",
   "version": "3.7.0"
  }
 },
 "nbformat": 4,
 "nbformat_minor": 1
}
